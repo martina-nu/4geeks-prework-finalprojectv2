{
 "cells": [
  {
   "cell_type": "markdown",
   "id": "c4e52ee5",
   "metadata": {},
   "source": [
    "## The dataset\n",
    "\n",
    "This is a real dataset and it was downloaded using web scraping techniques. The data contains registers from fotocasa which is one of the most popular websites of real estate in Spain. Please, do not do this (web scraping) unless it is for academic purposes.\n",
    "\n",
    "The dataset was downloaded a few years ago by Henry Navarro and In no case were economic returns obtained from it.\n",
    "\n",
    "It contains thousands of data from real homes published on the web www.fotocasa.com. Your goal is to extract as much information as possible with the knowledge you have so far about data science, for example what is the most expensive home in the entire dataset?\n",
    "\n",
    "Let's start with precisely that question... Good luck!\n"
   ]
  },
  {
   "cell_type": "code",
   "execution_count": 112,
   "id": "4cf41740",
   "metadata": {},
   "outputs": [],
   "source": [
    "import pandas as pd\n",
    "import numpy as np\n",
    "import matplotlib.pyplot as plt\n"
   ]
  },
  {
   "cell_type": "markdown",
   "id": "dd97255d",
   "metadata": {},
   "source": [
    "#### Read the dataset assets/real_estate.csv and try to visualize the table (★☆☆)"
   ]
  },
  {
   "cell_type": "code",
   "execution_count": 113,
   "id": "4b93d9c8",
   "metadata": {},
   "outputs": [
    {
     "data": {
      "text/html": [
       "<div>\n",
       "<style scoped>\n",
       "    .dataframe tbody tr th:only-of-type {\n",
       "        vertical-align: middle;\n",
       "    }\n",
       "\n",
       "    .dataframe tbody tr th {\n",
       "        vertical-align: top;\n",
       "    }\n",
       "\n",
       "    .dataframe thead th {\n",
       "        text-align: right;\n",
       "    }\n",
       "</style>\n",
       "<table border=\"1\" class=\"dataframe\">\n",
       "  <thead>\n",
       "    <tr style=\"text-align: right;\">\n",
       "      <th></th>\n",
       "      <th>Unnamed: 0</th>\n",
       "      <th>id_realEstates</th>\n",
       "      <th>isNew</th>\n",
       "      <th>realEstate_name</th>\n",
       "      <th>phone_realEstate</th>\n",
       "      <th>url_inmueble</th>\n",
       "      <th>rooms</th>\n",
       "      <th>bathrooms</th>\n",
       "      <th>surface</th>\n",
       "      <th>price</th>\n",
       "      <th>...</th>\n",
       "      <th>level4Id</th>\n",
       "      <th>level5Id</th>\n",
       "      <th>level6Id</th>\n",
       "      <th>level7Id</th>\n",
       "      <th>level8Id</th>\n",
       "      <th>accuracy</th>\n",
       "      <th>latitude</th>\n",
       "      <th>longitude</th>\n",
       "      <th>zipCode</th>\n",
       "      <th>customZone</th>\n",
       "    </tr>\n",
       "  </thead>\n",
       "  <tbody>\n",
       "    <tr>\n",
       "      <th>14859</th>\n",
       "      <td>14860</td>\n",
       "      <td>153912240</td>\n",
       "      <td>False</td>\n",
       "      <td>deplace</td>\n",
       "      <td>910750918.0</td>\n",
       "      <td>https://www.fotocasa.es/es/comprar/vivienda/ma...</td>\n",
       "      <td>1.0</td>\n",
       "      <td>1.0</td>\n",
       "      <td>62.0</td>\n",
       "      <td>295000</td>\n",
       "      <td>...</td>\n",
       "      <td>0</td>\n",
       "      <td>0</td>\n",
       "      <td>0</td>\n",
       "      <td>0</td>\n",
       "      <td>0</td>\n",
       "      <td>0</td>\n",
       "      <td>40,38979</td>\n",
       "      <td>-3,68888</td>\n",
       "      <td>NaN</td>\n",
       "      <td>NaN</td>\n",
       "    </tr>\n",
       "    <tr>\n",
       "      <th>13926</th>\n",
       "      <td>13927</td>\n",
       "      <td>152096193</td>\n",
       "      <td>False</td>\n",
       "      <td>rover homes</td>\n",
       "      <td>914890778.0</td>\n",
       "      <td>https://www.fotocasa.es/vivienda/torrejon-de-a...</td>\n",
       "      <td>3.0</td>\n",
       "      <td>2.0</td>\n",
       "      <td>136.0</td>\n",
       "      <td>310000</td>\n",
       "      <td>...</td>\n",
       "      <td>0</td>\n",
       "      <td>0</td>\n",
       "      <td>0</td>\n",
       "      <td>0</td>\n",
       "      <td>0</td>\n",
       "      <td>1</td>\n",
       "      <td>40,4244241</td>\n",
       "      <td>-3,5415077</td>\n",
       "      <td>NaN</td>\n",
       "      <td>NaN</td>\n",
       "    </tr>\n",
       "    <tr>\n",
       "      <th>12465</th>\n",
       "      <td>12466</td>\n",
       "      <td>153421830</td>\n",
       "      <td>False</td>\n",
       "      <td>outletdeviviendas</td>\n",
       "      <td>911369773.0</td>\n",
       "      <td>https://www.fotocasa.es/es/comprar/vivienda/mi...</td>\n",
       "      <td>3.0</td>\n",
       "      <td>2.0</td>\n",
       "      <td>126.0</td>\n",
       "      <td>103700</td>\n",
       "      <td>...</td>\n",
       "      <td>0</td>\n",
       "      <td>0</td>\n",
       "      <td>0</td>\n",
       "      <td>0</td>\n",
       "      <td>0</td>\n",
       "      <td>0</td>\n",
       "      <td>40,8596120255223</td>\n",
       "      <td>-3,70722127852947</td>\n",
       "      <td>NaN</td>\n",
       "      <td>NaN</td>\n",
       "    </tr>\n",
       "    <tr>\n",
       "      <th>3718</th>\n",
       "      <td>3719</td>\n",
       "      <td>153137175</td>\n",
       "      <td>False</td>\n",
       "      <td>unica inmobiliaria</td>\n",
       "      <td>914892919.0</td>\n",
       "      <td>https://www.fotocasa.es/es/comprar/vivienda/mo...</td>\n",
       "      <td>3.0</td>\n",
       "      <td>1.0</td>\n",
       "      <td>133.0</td>\n",
       "      <td>750000</td>\n",
       "      <td>...</td>\n",
       "      <td>0</td>\n",
       "      <td>0</td>\n",
       "      <td>0</td>\n",
       "      <td>0</td>\n",
       "      <td>0</td>\n",
       "      <td>0</td>\n",
       "      <td>40,45391</td>\n",
       "      <td>-3,68918</td>\n",
       "      <td>NaN</td>\n",
       "      <td>NaN</td>\n",
       "    </tr>\n",
       "    <tr>\n",
       "      <th>10690</th>\n",
       "      <td>10691</td>\n",
       "      <td>153281732</td>\n",
       "      <td>False</td>\n",
       "      <td>atico a inmobiliaria</td>\n",
       "      <td>916350468.0</td>\n",
       "      <td>https://www.fotocasa.es/es/comprar/vivienda/ma...</td>\n",
       "      <td>3.0</td>\n",
       "      <td>2.0</td>\n",
       "      <td>NaN</td>\n",
       "      <td>156000</td>\n",
       "      <td>...</td>\n",
       "      <td>0</td>\n",
       "      <td>0</td>\n",
       "      <td>0</td>\n",
       "      <td>0</td>\n",
       "      <td>0</td>\n",
       "      <td>0</td>\n",
       "      <td>40,23348</td>\n",
       "      <td>-3,76602</td>\n",
       "      <td>NaN</td>\n",
       "      <td>NaN</td>\n",
       "    </tr>\n",
       "  </tbody>\n",
       "</table>\n",
       "<p>5 rows × 37 columns</p>\n",
       "</div>"
      ],
      "text/plain": [
       "       Unnamed: 0  id_realEstates  isNew       realEstate_name  \\\n",
       "14859       14860       153912240  False               deplace   \n",
       "13926       13927       152096193  False           rover homes   \n",
       "12465       12466       153421830  False     outletdeviviendas   \n",
       "3718         3719       153137175  False    unica inmobiliaria   \n",
       "10690       10691       153281732  False  atico a inmobiliaria   \n",
       "\n",
       "       phone_realEstate                                       url_inmueble  \\\n",
       "14859       910750918.0  https://www.fotocasa.es/es/comprar/vivienda/ma...   \n",
       "13926       914890778.0  https://www.fotocasa.es/vivienda/torrejon-de-a...   \n",
       "12465       911369773.0  https://www.fotocasa.es/es/comprar/vivienda/mi...   \n",
       "3718        914892919.0  https://www.fotocasa.es/es/comprar/vivienda/mo...   \n",
       "10690       916350468.0  https://www.fotocasa.es/es/comprar/vivienda/ma...   \n",
       "\n",
       "       rooms  bathrooms  surface   price  ... level4Id level5Id level6Id  \\\n",
       "14859    1.0        1.0     62.0  295000  ...        0        0        0   \n",
       "13926    3.0        2.0    136.0  310000  ...        0        0        0   \n",
       "12465    3.0        2.0    126.0  103700  ...        0        0        0   \n",
       "3718     3.0        1.0    133.0  750000  ...        0        0        0   \n",
       "10690    3.0        2.0      NaN  156000  ...        0        0        0   \n",
       "\n",
       "      level7Id level8Id accuracy          latitude          longitude zipCode  \\\n",
       "14859        0        0        0          40,38979           -3,68888     NaN   \n",
       "13926        0        0        1        40,4244241         -3,5415077     NaN   \n",
       "12465        0        0        0  40,8596120255223  -3,70722127852947     NaN   \n",
       "3718         0        0        0          40,45391           -3,68918     NaN   \n",
       "10690        0        0        0          40,23348           -3,76602     NaN   \n",
       "\n",
       "      customZone  \n",
       "14859        NaN  \n",
       "13926        NaN  \n",
       "12465        NaN  \n",
       "3718         NaN  \n",
       "10690        NaN  \n",
       "\n",
       "[5 rows x 37 columns]"
      ]
     },
     "execution_count": 113,
     "metadata": {},
     "output_type": "execute_result"
    }
   ],
   "source": [
    "df = pd.read_csv('assets/real_estate.csv', sep=';')\n",
    "df.sample(5)"
   ]
  },
  {
   "cell_type": "code",
   "execution_count": 114,
   "id": "11cd5fe9",
   "metadata": {},
   "outputs": [
    {
     "name": "stdout",
     "output_type": "stream",
     "text": [
      "<class 'pandas.core.frame.DataFrame'>\n",
      "RangeIndex: 15335 entries, 0 to 15334\n",
      "Data columns (total 37 columns):\n",
      " #   Column            Non-Null Count  Dtype  \n",
      "---  ------            --------------  -----  \n",
      " 0   Unnamed: 0        15335 non-null  int64  \n",
      " 1   id_realEstates    15335 non-null  int64  \n",
      " 2   isNew             15335 non-null  bool   \n",
      " 3   realEstate_name   15325 non-null  object \n",
      " 4   phone_realEstate  14541 non-null  float64\n",
      " 5   url_inmueble      15335 non-null  object \n",
      " 6   rooms             14982 non-null  float64\n",
      " 7   bathrooms         14990 non-null  float64\n",
      " 8   surface           14085 non-null  float64\n",
      " 9   price             15335 non-null  int64  \n",
      " 10  date              15335 non-null  object \n",
      " 11  description       15193 non-null  object \n",
      " 12  address           15335 non-null  object \n",
      " 13  country           15335 non-null  object \n",
      " 14  level1            15335 non-null  object \n",
      " 15  level2            15335 non-null  object \n",
      " 16  level3            15335 non-null  object \n",
      " 17  level4            8692 non-null   object \n",
      " 18  level5            15335 non-null  object \n",
      " 19  level6            708 non-null    object \n",
      " 20  level7            13058 non-null  object \n",
      " 21  level8            6756 non-null   object \n",
      " 22  upperLevel        15335 non-null  object \n",
      " 23  countryId         15335 non-null  int64  \n",
      " 24  level1Id          15335 non-null  int64  \n",
      " 25  level2Id          15335 non-null  int64  \n",
      " 26  level3Id          15335 non-null  int64  \n",
      " 27  level4Id          15335 non-null  int64  \n",
      " 28  level5Id          15335 non-null  int64  \n",
      " 29  level6Id          15335 non-null  int64  \n",
      " 30  level7Id          15335 non-null  int64  \n",
      " 31  level8Id          15335 non-null  int64  \n",
      " 32  accuracy          15335 non-null  int64  \n",
      " 33  latitude          15335 non-null  object \n",
      " 34  longitude         15335 non-null  object \n",
      " 35  zipCode           0 non-null      float64\n",
      " 36  customZone        0 non-null      float64\n",
      "dtypes: bool(1), float64(6), int64(13), object(17)\n",
      "memory usage: 4.2+ MB\n"
     ]
    }
   ],
   "source": [
    "df.info()"
   ]
  },
  {
   "cell_type": "markdown",
   "id": "55ccf47b",
   "metadata": {},
   "source": [
    "Show df data types"
   ]
  },
  {
   "cell_type": "code",
   "execution_count": 115,
   "id": "2539c328",
   "metadata": {},
   "outputs": [
    {
     "data": {
      "text/plain": [
       "Unnamed: 0            int64\n",
       "id_realEstates        int64\n",
       "isNew                  bool\n",
       "realEstate_name      object\n",
       "phone_realEstate    float64\n",
       "url_inmueble         object\n",
       "rooms               float64\n",
       "bathrooms           float64\n",
       "surface             float64\n",
       "price                 int64\n",
       "date                 object\n",
       "description          object\n",
       "address              object\n",
       "country              object\n",
       "level1               object\n",
       "level2               object\n",
       "level3               object\n",
       "level4               object\n",
       "level5               object\n",
       "level6               object\n",
       "level7               object\n",
       "level8               object\n",
       "upperLevel           object\n",
       "countryId             int64\n",
       "level1Id              int64\n",
       "level2Id              int64\n",
       "level3Id              int64\n",
       "level4Id              int64\n",
       "level5Id              int64\n",
       "level6Id              int64\n",
       "level7Id              int64\n",
       "level8Id              int64\n",
       "accuracy              int64\n",
       "latitude             object\n",
       "longitude            object\n",
       "zipCode             float64\n",
       "customZone          float64\n",
       "dtype: object"
      ]
     },
     "execution_count": 115,
     "metadata": {},
     "output_type": "execute_result"
    }
   ],
   "source": [
    "df.dtypes"
   ]
  },
  {
   "cell_type": "markdown",
   "id": "2422cdbc",
   "metadata": {},
   "source": [
    "Show number of rows and columns"
   ]
  },
  {
   "cell_type": "code",
   "execution_count": 116,
   "id": "7f778e5c",
   "metadata": {},
   "outputs": [
    {
     "data": {
      "text/plain": [
       "(15335, 37)"
      ]
     },
     "execution_count": 116,
     "metadata": {},
     "output_type": "execute_result"
    }
   ],
   "source": [
    "df.shape"
   ]
  },
  {
   "cell_type": "code",
   "execution_count": 117,
   "id": "fdcee121",
   "metadata": {},
   "outputs": [
    {
     "data": {
      "text/html": [
       "<div>\n",
       "<style scoped>\n",
       "    .dataframe tbody tr th:only-of-type {\n",
       "        vertical-align: middle;\n",
       "    }\n",
       "\n",
       "    .dataframe tbody tr th {\n",
       "        vertical-align: top;\n",
       "    }\n",
       "\n",
       "    .dataframe thead th {\n",
       "        text-align: right;\n",
       "    }\n",
       "</style>\n",
       "<table border=\"1\" class=\"dataframe\">\n",
       "  <thead>\n",
       "    <tr style=\"text-align: right;\">\n",
       "      <th></th>\n",
       "      <th>Unnamed: 0</th>\n",
       "      <th>id_realEstates</th>\n",
       "      <th>phone_realEstate</th>\n",
       "      <th>rooms</th>\n",
       "      <th>bathrooms</th>\n",
       "      <th>surface</th>\n",
       "      <th>price</th>\n",
       "      <th>countryId</th>\n",
       "      <th>level1Id</th>\n",
       "      <th>level2Id</th>\n",
       "      <th>level3Id</th>\n",
       "      <th>level4Id</th>\n",
       "      <th>level5Id</th>\n",
       "      <th>level6Id</th>\n",
       "      <th>level7Id</th>\n",
       "      <th>level8Id</th>\n",
       "      <th>accuracy</th>\n",
       "      <th>zipCode</th>\n",
       "      <th>customZone</th>\n",
       "    </tr>\n",
       "  </thead>\n",
       "  <tbody>\n",
       "    <tr>\n",
       "      <th>count</th>\n",
       "      <td>15335.000000</td>\n",
       "      <td>1.533500e+04</td>\n",
       "      <td>1.454100e+04</td>\n",
       "      <td>14982.000000</td>\n",
       "      <td>14990.000000</td>\n",
       "      <td>14085.000000</td>\n",
       "      <td>1.533500e+04</td>\n",
       "      <td>15335.0</td>\n",
       "      <td>15335.0</td>\n",
       "      <td>15335.0</td>\n",
       "      <td>15335.0</td>\n",
       "      <td>15335.0</td>\n",
       "      <td>15335.0</td>\n",
       "      <td>15335.0</td>\n",
       "      <td>15335.0</td>\n",
       "      <td>15335.0</td>\n",
       "      <td>15335.000000</td>\n",
       "      <td>0.0</td>\n",
       "      <td>0.0</td>\n",
       "    </tr>\n",
       "    <tr>\n",
       "      <th>mean</th>\n",
       "      <td>7668.000000</td>\n",
       "      <td>1.524371e+08</td>\n",
       "      <td>9.143423e+08</td>\n",
       "      <td>3.231611</td>\n",
       "      <td>2.150233</td>\n",
       "      <td>196.916436</td>\n",
       "      <td>4.773036e+05</td>\n",
       "      <td>0.0</td>\n",
       "      <td>0.0</td>\n",
       "      <td>0.0</td>\n",
       "      <td>0.0</td>\n",
       "      <td>0.0</td>\n",
       "      <td>0.0</td>\n",
       "      <td>0.0</td>\n",
       "      <td>0.0</td>\n",
       "      <td>0.0</td>\n",
       "      <td>0.166873</td>\n",
       "      <td>NaN</td>\n",
       "      <td>NaN</td>\n",
       "    </tr>\n",
       "    <tr>\n",
       "      <th>std</th>\n",
       "      <td>4426.977524</td>\n",
       "      <td>2.277286e+06</td>\n",
       "      <td>7.516036e+06</td>\n",
       "      <td>1.393106</td>\n",
       "      <td>1.292079</td>\n",
       "      <td>2182.758313</td>\n",
       "      <td>5.912942e+05</td>\n",
       "      <td>0.0</td>\n",
       "      <td>0.0</td>\n",
       "      <td>0.0</td>\n",
       "      <td>0.0</td>\n",
       "      <td>0.0</td>\n",
       "      <td>0.0</td>\n",
       "      <td>0.0</td>\n",
       "      <td>0.0</td>\n",
       "      <td>0.0</td>\n",
       "      <td>0.372875</td>\n",
       "      <td>NaN</td>\n",
       "      <td>NaN</td>\n",
       "    </tr>\n",
       "    <tr>\n",
       "      <th>min</th>\n",
       "      <td>1.000000</td>\n",
       "      <td>1.221584e+08</td>\n",
       "      <td>8.762742e+08</td>\n",
       "      <td>1.000000</td>\n",
       "      <td>1.000000</td>\n",
       "      <td>15.000000</td>\n",
       "      <td>0.000000e+00</td>\n",
       "      <td>0.0</td>\n",
       "      <td>0.0</td>\n",
       "      <td>0.0</td>\n",
       "      <td>0.0</td>\n",
       "      <td>0.0</td>\n",
       "      <td>0.0</td>\n",
       "      <td>0.0</td>\n",
       "      <td>0.0</td>\n",
       "      <td>0.0</td>\n",
       "      <td>0.000000</td>\n",
       "      <td>NaN</td>\n",
       "      <td>NaN</td>\n",
       "    </tr>\n",
       "    <tr>\n",
       "      <th>25%</th>\n",
       "      <td>3834.500000</td>\n",
       "      <td>1.519456e+08</td>\n",
       "      <td>9.113649e+08</td>\n",
       "      <td>2.000000</td>\n",
       "      <td>1.000000</td>\n",
       "      <td>80.000000</td>\n",
       "      <td>1.690000e+05</td>\n",
       "      <td>0.0</td>\n",
       "      <td>0.0</td>\n",
       "      <td>0.0</td>\n",
       "      <td>0.0</td>\n",
       "      <td>0.0</td>\n",
       "      <td>0.0</td>\n",
       "      <td>0.0</td>\n",
       "      <td>0.0</td>\n",
       "      <td>0.0</td>\n",
       "      <td>0.000000</td>\n",
       "      <td>NaN</td>\n",
       "      <td>NaN</td>\n",
       "    </tr>\n",
       "    <tr>\n",
       "      <th>50%</th>\n",
       "      <td>7668.000000</td>\n",
       "      <td>1.532413e+08</td>\n",
       "      <td>9.121841e+08</td>\n",
       "      <td>3.000000</td>\n",
       "      <td>2.000000</td>\n",
       "      <td>114.000000</td>\n",
       "      <td>2.800000e+05</td>\n",
       "      <td>0.0</td>\n",
       "      <td>0.0</td>\n",
       "      <td>0.0</td>\n",
       "      <td>0.0</td>\n",
       "      <td>0.0</td>\n",
       "      <td>0.0</td>\n",
       "      <td>0.0</td>\n",
       "      <td>0.0</td>\n",
       "      <td>0.0</td>\n",
       "      <td>0.000000</td>\n",
       "      <td>NaN</td>\n",
       "      <td>NaN</td>\n",
       "    </tr>\n",
       "    <tr>\n",
       "      <th>75%</th>\n",
       "      <td>11501.500000</td>\n",
       "      <td>1.538105e+08</td>\n",
       "      <td>9.148904e+08</td>\n",
       "      <td>4.000000</td>\n",
       "      <td>3.000000</td>\n",
       "      <td>205.000000</td>\n",
       "      <td>5.400000e+05</td>\n",
       "      <td>0.0</td>\n",
       "      <td>0.0</td>\n",
       "      <td>0.0</td>\n",
       "      <td>0.0</td>\n",
       "      <td>0.0</td>\n",
       "      <td>0.0</td>\n",
       "      <td>0.0</td>\n",
       "      <td>0.0</td>\n",
       "      <td>0.0</td>\n",
       "      <td>0.000000</td>\n",
       "      <td>NaN</td>\n",
       "      <td>NaN</td>\n",
       "    </tr>\n",
       "    <tr>\n",
       "      <th>max</th>\n",
       "      <td>15335.000000</td>\n",
       "      <td>1.540033e+08</td>\n",
       "      <td>9.887761e+08</td>\n",
       "      <td>30.000000</td>\n",
       "      <td>20.000000</td>\n",
       "      <td>249000.000000</td>\n",
       "      <td>8.500000e+06</td>\n",
       "      <td>0.0</td>\n",
       "      <td>0.0</td>\n",
       "      <td>0.0</td>\n",
       "      <td>0.0</td>\n",
       "      <td>0.0</td>\n",
       "      <td>0.0</td>\n",
       "      <td>0.0</td>\n",
       "      <td>0.0</td>\n",
       "      <td>0.0</td>\n",
       "      <td>1.000000</td>\n",
       "      <td>NaN</td>\n",
       "      <td>NaN</td>\n",
       "    </tr>\n",
       "  </tbody>\n",
       "</table>\n",
       "</div>"
      ],
      "text/plain": [
       "         Unnamed: 0  id_realEstates  phone_realEstate         rooms  \\\n",
       "count  15335.000000    1.533500e+04      1.454100e+04  14982.000000   \n",
       "mean    7668.000000    1.524371e+08      9.143423e+08      3.231611   \n",
       "std     4426.977524    2.277286e+06      7.516036e+06      1.393106   \n",
       "min        1.000000    1.221584e+08      8.762742e+08      1.000000   \n",
       "25%     3834.500000    1.519456e+08      9.113649e+08      2.000000   \n",
       "50%     7668.000000    1.532413e+08      9.121841e+08      3.000000   \n",
       "75%    11501.500000    1.538105e+08      9.148904e+08      4.000000   \n",
       "max    15335.000000    1.540033e+08      9.887761e+08     30.000000   \n",
       "\n",
       "          bathrooms        surface         price  countryId  level1Id  \\\n",
       "count  14990.000000   14085.000000  1.533500e+04    15335.0   15335.0   \n",
       "mean       2.150233     196.916436  4.773036e+05        0.0       0.0   \n",
       "std        1.292079    2182.758313  5.912942e+05        0.0       0.0   \n",
       "min        1.000000      15.000000  0.000000e+00        0.0       0.0   \n",
       "25%        1.000000      80.000000  1.690000e+05        0.0       0.0   \n",
       "50%        2.000000     114.000000  2.800000e+05        0.0       0.0   \n",
       "75%        3.000000     205.000000  5.400000e+05        0.0       0.0   \n",
       "max       20.000000  249000.000000  8.500000e+06        0.0       0.0   \n",
       "\n",
       "       level2Id  level3Id  level4Id  level5Id  level6Id  level7Id  level8Id  \\\n",
       "count   15335.0   15335.0   15335.0   15335.0   15335.0   15335.0   15335.0   \n",
       "mean        0.0       0.0       0.0       0.0       0.0       0.0       0.0   \n",
       "std         0.0       0.0       0.0       0.0       0.0       0.0       0.0   \n",
       "min         0.0       0.0       0.0       0.0       0.0       0.0       0.0   \n",
       "25%         0.0       0.0       0.0       0.0       0.0       0.0       0.0   \n",
       "50%         0.0       0.0       0.0       0.0       0.0       0.0       0.0   \n",
       "75%         0.0       0.0       0.0       0.0       0.0       0.0       0.0   \n",
       "max         0.0       0.0       0.0       0.0       0.0       0.0       0.0   \n",
       "\n",
       "           accuracy  zipCode  customZone  \n",
       "count  15335.000000      0.0         0.0  \n",
       "mean       0.166873      NaN         NaN  \n",
       "std        0.372875      NaN         NaN  \n",
       "min        0.000000      NaN         NaN  \n",
       "25%        0.000000      NaN         NaN  \n",
       "50%        0.000000      NaN         NaN  \n",
       "75%        0.000000      NaN         NaN  \n",
       "max        1.000000      NaN         NaN  "
      ]
     },
     "execution_count": 117,
     "metadata": {},
     "output_type": "execute_result"
    }
   ],
   "source": [
    "df.describe()"
   ]
  },
  {
   "cell_type": "markdown",
   "id": "40631cd6",
   "metadata": {},
   "source": [
    "#### What is the most expensive home in the dataset? (★☆☆)"
   ]
  },
  {
   "cell_type": "code",
   "execution_count": 118,
   "id": "16480e32",
   "metadata": {},
   "outputs": [
    {
     "name": "stdout",
     "output_type": "stream",
     "text": [
      "The most expensive home is 8500000\n"
     ]
    }
   ],
   "source": [
    "print(\"The most expensive home is \" + str(df['price'].max())) "
   ]
  },
  {
   "cell_type": "markdown",
   "id": "0a708990",
   "metadata": {},
   "source": [
    "#### What is cheapest home in the dataset? (★☆☆)"
   ]
  },
  {
   "cell_type": "markdown",
   "id": "e1c03bdf",
   "metadata": {},
   "source": [
    "Working only with houses with prices greater than 0"
   ]
  },
  {
   "cell_type": "code",
   "execution_count": 119,
   "id": "fbff3075",
   "metadata": {},
   "outputs": [],
   "source": [
    "#Filter\n",
    "price_filter= df[df['price']>0]"
   ]
  },
  {
   "cell_type": "code",
   "execution_count": 120,
   "id": "3f2d568f",
   "metadata": {},
   "outputs": [
    {
     "name": "stdout",
     "output_type": "stream",
     "text": [
      "The cheapest home is 600\n"
     ]
    }
   ],
   "source": [
    "print(\"The cheapest home is \" + str(price_filter['price'].min()))"
   ]
  },
  {
   "cell_type": "markdown",
   "id": "0b16cd77",
   "metadata": {},
   "source": [
    "#### What is the biggest and the smallest home in the dataset? (★☆☆)"
   ]
  },
  {
   "cell_type": "code",
   "execution_count": 121,
   "id": "4d9b5975",
   "metadata": {},
   "outputs": [
    {
     "name": "stdout",
     "output_type": "stream",
     "text": [
      "The biggest home is 249000.0\n"
     ]
    }
   ],
   "source": [
    "biggestHome = df['surface'].max()\n",
    "print(\"The biggest home is \" + str(biggestHome))\n"
   ]
  },
  {
   "cell_type": "code",
   "execution_count": 122,
   "id": "2de5bdbb",
   "metadata": {},
   "outputs": [
    {
     "name": "stdout",
     "output_type": "stream",
     "text": [
      "The biggest home is 15.0\n"
     ]
    }
   ],
   "source": [
    "smallestHome = df['surface'].min()\n",
    "print(\"The biggest home is \" + str(smallestHome))"
   ]
  },
  {
   "cell_type": "markdown",
   "id": "782d4c77",
   "metadata": {},
   "source": [
    "#### How many populations (level5) the dataset contains? (★☆☆)"
   ]
  },
  {
   "cell_type": "code",
   "execution_count": 123,
   "id": "5dbe1a08",
   "metadata": {},
   "outputs": [
    {
     "name": "stdout",
     "output_type": "stream",
     "text": [
      "Number of level 5 populations: 168\n",
      "Number of houses per level 5 populations: \n",
      " Madrid Capital         6643\n",
      "Alcalá de Henares        525\n",
      "Las Rozas de Madrid      383\n",
      "Móstoles                 325\n",
      "Getafe                   290\n",
      "                        ... \n",
      "Brea de Tajo               1\n",
      "El Atazar                  1\n",
      "Piñuécar-gandullas         1\n",
      "Braojos                    1\n",
      "Montejo de la Sierra       1\n",
      "Name: level5, Length: 168, dtype: int64\n"
     ]
    }
   ],
   "source": [
    "print(\"Number of level 5 populations: \" + str(df['level5'].value_counts().count()))\n",
    "\n",
    "print(\"Number of houses per level 5 populations: \" )\n",
    "\n",
    "print(df['level5'].value_counts())"
   ]
  },
  {
   "cell_type": "markdown",
   "id": "48d48f01",
   "metadata": {},
   "source": [
    "#### Does the dataset contain NAs? (★☆☆)\n"
   ]
  },
  {
   "cell_type": "code",
   "execution_count": 124,
   "id": "3ed233e7",
   "metadata": {},
   "outputs": [
    {
     "data": {
      "text/plain": [
       "Unnamed: 0              0\n",
       "id_realEstates          0\n",
       "isNew                   0\n",
       "realEstate_name        10\n",
       "phone_realEstate      794\n",
       "url_inmueble            0\n",
       "rooms                 353\n",
       "bathrooms             345\n",
       "surface              1250\n",
       "price                   0\n",
       "date                    0\n",
       "description           142\n",
       "address                 0\n",
       "country                 0\n",
       "level1                  0\n",
       "level2                  0\n",
       "level3                  0\n",
       "level4               6643\n",
       "level5                  0\n",
       "level6              14627\n",
       "level7               2277\n",
       "level8               8579\n",
       "upperLevel              0\n",
       "countryId               0\n",
       "level1Id                0\n",
       "level2Id                0\n",
       "level3Id                0\n",
       "level4Id                0\n",
       "level5Id                0\n",
       "level6Id                0\n",
       "level7Id                0\n",
       "level8Id                0\n",
       "accuracy                0\n",
       "latitude                0\n",
       "longitude               0\n",
       "zipCode             15335\n",
       "customZone          15335\n",
       "dtype: int64"
      ]
     },
     "execution_count": 124,
     "metadata": {},
     "output_type": "execute_result"
    }
   ],
   "source": [
    "df.isnull().sum()"
   ]
  },
  {
   "cell_type": "markdown",
   "id": "4fa39382",
   "metadata": {},
   "source": [
    "#### Delete the NAs of the dataset, if applicable (★★☆)"
   ]
  },
  {
   "cell_type": "code",
   "execution_count": 125,
   "id": "c97757ec",
   "metadata": {},
   "outputs": [
    {
     "data": {
      "text/plain": [
       "(15335, 35)"
      ]
     },
     "execution_count": 125,
     "metadata": {},
     "output_type": "execute_result"
    }
   ],
   "source": [
    "#Deleting columns zipCode and customZone because is null in every row.\n",
    "\n",
    "df = df.drop([\"zipCode\",\"customZone\"], axis=1)\n",
    "df.shape"
   ]
  },
  {
   "cell_type": "code",
   "execution_count": 126,
   "id": "6b3adcea",
   "metadata": {},
   "outputs": [
    {
     "data": {
      "text/plain": [
       "(15335, 34)"
      ]
     },
     "execution_count": 126,
     "metadata": {},
     "output_type": "execute_result"
    }
   ],
   "source": [
    "#Deleting column Unnamed: 0 as it is not useful\n",
    "\n",
    "df = df.drop([\"Unnamed: 0\"], axis=1)\n",
    "df.shape"
   ]
  },
  {
   "cell_type": "code",
   "execution_count": 127,
   "metadata": {},
   "outputs": [
    {
     "data": {
      "text/plain": [
       "id_realEstates        int64\n",
       "isNew                  bool\n",
       "realEstate_name      object\n",
       "phone_realEstate      Int64\n",
       "url_inmueble         object\n",
       "rooms                 Int64\n",
       "bathrooms             Int64\n",
       "surface             float64\n",
       "price                 int64\n",
       "date                 object\n",
       "description          object\n",
       "address              object\n",
       "country              object\n",
       "level1               object\n",
       "level2               object\n",
       "level3               object\n",
       "level4               object\n",
       "level5               object\n",
       "level6               object\n",
       "level7               object\n",
       "level8               object\n",
       "upperLevel           object\n",
       "countryId             int64\n",
       "level1Id              int64\n",
       "level2Id              int64\n",
       "level3Id              int64\n",
       "level4Id              int64\n",
       "level5Id              int64\n",
       "level6Id              int64\n",
       "level7Id              int64\n",
       "level8Id              int64\n",
       "accuracy              int64\n",
       "latitude             object\n",
       "longitude            object\n",
       "dtype: object"
      ]
     },
     "execution_count": 127,
     "metadata": {},
     "output_type": "execute_result"
    }
   ],
   "source": [
    "#Change phone_realEstate, rooms and bathrooms from float to int\n",
    "df['phone_realEstate'] = df['phone_realEstate'].astype('Int64')\n",
    "df['rooms'] = df['rooms'].astype('Int64')\n",
    "df['bathrooms'] = df['bathrooms'].astype('Int64')\n",
    "\n",
    "df.dtypes"
   ]
  },
  {
   "cell_type": "code",
   "execution_count": 128,
   "id": "0f4df598",
   "metadata": {},
   "outputs": [
    {
     "data": {
      "text/plain": [
       "id_realEstates          0\n",
       "isNew                   0\n",
       "realEstate_name        10\n",
       "phone_realEstate      721\n",
       "url_inmueble            0\n",
       "rooms                 322\n",
       "bathrooms             295\n",
       "surface                 0\n",
       "price                   0\n",
       "date                    0\n",
       "description           129\n",
       "address                 0\n",
       "country                 0\n",
       "level1                  0\n",
       "level2                  0\n",
       "level3                  0\n",
       "level4               6237\n",
       "level5                  0\n",
       "level6              13408\n",
       "level7               2024\n",
       "level8               7749\n",
       "upperLevel              0\n",
       "countryId               0\n",
       "level1Id                0\n",
       "level2Id                0\n",
       "level3Id                0\n",
       "level4Id                0\n",
       "level5Id                0\n",
       "level6Id                0\n",
       "level7Id                0\n",
       "level8Id                0\n",
       "accuracy                0\n",
       "latitude                0\n",
       "longitude               0\n",
       "dtype: int64"
      ]
     },
     "execution_count": 128,
     "metadata": {},
     "output_type": "execute_result"
    }
   ],
   "source": [
    "#Deleting rows with null values in column \"surface\" as it may affect the analysis later.\n",
    "\n",
    "df = df.dropna(subset=['surface'])\n",
    "df.isnull().sum()"
   ]
  },
  {
   "cell_type": "markdown",
   "id": "1bb37d47",
   "metadata": {},
   "source": [
    "We shouldn't delete every row or column with null values because it may affect the analysis."
   ]
  },
  {
   "cell_type": "markdown",
   "id": "0e5f76de",
   "metadata": {},
   "source": [
    "#### What is the mean of prices in the population (level5) of \"Arroyomolinos (Madrid)\"? (★★☆)"
   ]
  },
  {
   "cell_type": "code",
   "execution_count": 129,
   "id": "327f7adb",
   "metadata": {},
   "outputs": [
    {
     "name": "stdout",
     "output_type": "stream",
     "text": [
      "The mean of prices in Arroyomolinos is 299892.69\n"
     ]
    }
   ],
   "source": [
    "#Working with filtered houses (Prices greater than 0)\n",
    "data_price=df[df['price']>0]\n",
    "print(\"The mean of prices in Arroyomolinos is \" + str(round(data_price[data_price.level5 == \"Arroyomolinos (Madrid)\"].price.mean(),2)))"
   ]
  },
  {
   "cell_type": "markdown",
   "id": "89b548e3",
   "metadata": {},
   "source": [
    "#### Plot the histogram of prices for the population (level5) of \"Arroyomolinos (Madrid)\" and explain what you observe (★★☆)"
   ]
  },
  {
   "cell_type": "code",
   "execution_count": 130,
   "id": "2ba51bf7",
   "metadata": {},
   "outputs": [
    {
     "data": {
      "image/png": "[encoded data removed]",
      "text/plain": [
       "<Figure size 432x288 with 1 Axes>"
      ]
     },
     "metadata": {
      "needs_background": "light"
     },
     "output_type": "display_data"
    }
   ],
   "source": [
    "df_arroyo= data_price[data_price.level5 == \"Arroyomolinos (Madrid)\"].price.hist()"
   ]
  },
  {
   "cell_type": "markdown",
   "id": "a03d2197",
   "metadata": {},
   "source": [
    "The prices of most of the homes are between 200 000 and 400 000 "
   ]
  },
  {
   "cell_type": "markdown",
   "id": "c86dc493",
   "metadata": {},
   "source": [
    "#### Now let's work with the \"south belt\" of madrid. Make a subsetting that contains the following populations (level5): \"Fuenlabrada\",\"Leganés\",\"Getafe\",\"Alcorcón\" (★★☆) "
   ]
  },
  {
   "cell_type": "code",
   "execution_count": 131,
   "id": "5280d0cb",
   "metadata": {},
   "outputs": [
    {
     "data": {
      "text/plain": [
       "Getafe         241\n",
       "Fuenlabrada    197\n",
       "Leganés        176\n",
       "Alcorcón       173\n",
       "Name: level5, dtype: int64"
      ]
     },
     "execution_count": 131,
     "metadata": {},
     "output_type": "execute_result"
    }
   ],
   "source": [
    "south_belt = df[df[\"level5\"].isin([\"Fuenlabrada\",\"Leganés\",\"Getafe\",\"Alcorcón\"])]\n",
    "south_belt['level5'].value_counts()"
   ]
  },
  {
   "cell_type": "markdown",
   "id": "090a6a3e",
   "metadata": {},
   "source": [
    "#### Make a bar plot of the median of prices (★★★) "
   ]
  },
  {
   "cell_type": "code",
   "execution_count": 132,
   "id": "68aec11c",
   "metadata": {},
   "outputs": [
    {
     "data": {
      "text/plain": [
       "<AxesSubplot:xlabel='level5'>"
      ]
     },
     "execution_count": 132,
     "metadata": {},
     "output_type": "execute_result"
    },
    {
     "data": {
      "image/png": "[encoded data removed]",
      "text/plain": [
       "<Figure size 432x288 with 1 Axes>"
      ]
     },
     "metadata": {
      "needs_background": "light"
     },
     "output_type": "display_data"
    }
   ],
   "source": [
    "#Filter\n",
    "\n",
    "south_belt=south_belt[south_belt['price']>0]\n",
    "\n",
    "#Make plot \n",
    "\n",
    "south_belt.groupby('level5')['price'].median().plot.bar()"
   ]
  },
  {
   "cell_type": "markdown",
   "id": "18f67373",
   "metadata": {},
   "source": [
    "#### Calculate the sample mean and variance of the variables: price, rooms, surface area and bathrooms (★★★) "
   ]
  },
  {
   "cell_type": "code",
   "execution_count": 133,
   "id": "8d068061",
   "metadata": {},
   "outputs": [
    {
     "name": "stdout",
     "output_type": "stream",
     "text": [
      "Sample mean:\n",
      "price        225446.676129\n",
      "rooms             3.012970\n",
      "surface         111.298065\n",
      "bathrooms         1.629389\n",
      "dtype: float64\n",
      "Variance:\n",
      "price        1.462553e+10\n",
      "rooms        7.063251e-01\n",
      "surface      4.275920e+03\n",
      "bathrooms    5.773123e-01\n",
      "dtype: float64\n"
     ]
    }
   ],
   "source": [
    "print(\"Sample mean:\")\n",
    "\n",
    "mean = south_belt[['price', 'rooms','surface','bathrooms']].mean()\n",
    "print(mean)\n",
    "\n",
    "print(\"Variance:\")\n",
    "\n",
    "variances = south_belt[['price', 'rooms','surface','bathrooms']].var()\n",
    "print(variances)"
   ]
  },
  {
   "cell_type": "markdown",
   "id": "95cfde61",
   "metadata": {},
   "source": [
    "#### What is the most expensive home of each population? (★★☆) "
   ]
  },
  {
   "cell_type": "code",
   "execution_count": 134,
   "id": "1c29f78c",
   "metadata": {},
   "outputs": [
    {
     "name": "stdout",
     "output_type": "stream",
     "text": [
      "level5\n",
      "Alcorcón        950000\n",
      "Fuenlabrada     490000\n",
      "Getafe         1050000\n",
      "Leganés         650000\n",
      "Name: price, dtype: int64\n"
     ]
    }
   ],
   "source": [
    "expensive_south = south_belt.groupby('level5')['price'].agg('max')\n",
    "print(expensive_south)"
   ]
  },
  {
   "cell_type": "markdown",
   "id": "ea67579b",
   "metadata": {},
   "source": [
    "#### Normalize the variable of prices for each population and plot the 4 histograms in the same plot (★★★) "
   ]
  },
  {
   "cell_type": "markdown",
   "id": "cf3b94ab",
   "metadata": {},
   "source": [
    "\"We can normalize a histogram in Matplotlib using the density keyword argument and setting it to True. By normalizing a histogram, the sum of the bar area equals 1.\""
   ]
  },
  {
   "cell_type": "code",
   "execution_count": 135,
   "id": "385ad99c",
   "metadata": {},
   "outputs": [
    {
     "data": {
      "image/png": "[encoded data removed]",
      "text/plain": [
       "<Figure size 432x288 with 1 Axes>"
      ]
     },
     "metadata": {
      "needs_background": "light"
     },
     "output_type": "display_data"
    }
   ],
   "source": [
    "\n",
    "alcorcon= south_belt[south_belt.level5 == \"Alcorcón\"]\n",
    "fuenlabrada= south_belt[south_belt.level5 == \"Fuenlabrada\"]\n",
    "getafe = south_belt[south_belt.level5 == \"Getafe\"]\n",
    "leganes = south_belt[south_belt.level5 == \"Leganés\"]\n",
    "\n",
    "fig,ax = plt.subplots()\n",
    "ax.hist(alcorcon[\"price\"], label=\"Alcorcón\", histtype=\"step\", density=True) \n",
    "ax.hist(fuenlabrada[\"price\"], label=\"Fuenlabrada\", histtype=\"step\", density=True) \n",
    "ax.hist(getafe[\"price\"], label=\"Getafe\", histtype=\"step\", density=True) \n",
    "ax.hist(leganes[\"price\"], label=\"Leganés\", histtype=\"step\", density=True) \n",
    "plt.legend()\n",
    "plt.show()"
   ]
  },
  {
   "cell_type": "markdown",
   "id": "2ec1bd5c",
   "metadata": {},
   "source": [
    "#### Make a plot of the coordinates (lat and long) of the south belt of Madrid by color of each population (★★★★) \n",
    "This is a extremely hard exercise and we highly recommend to do it at the end of everything"
   ]
  },
  {
   "cell_type": "code",
   "execution_count": 136,
   "id": "312aac99",
   "metadata": {},
   "outputs": [
    {
     "data": {
      "application/vnd.jupyter.widget-view+json": {
       "model_id": "de5fc31d5a7b4decbbe2292611515c68",
       "version_major": 2,
       "version_minor": 0
      },
      "text/plain": [
       "Map(center=[60, -2.2], controls=(ZoomControl(options=['position', 'zoom_in_text', 'zoom_in_title', 'zoom_out_t…"
      ]
     },
     "metadata": {},
     "output_type": "display_data"
    }
   ],
   "source": [
    "# Run in console the following command before run the rest of code:\n",
    "# jupyter nbextension enable --py --sys-prefix ipyleaflet\n",
    "\n",
    "from ipyleaflet import Map, basemaps ,Marker\n",
    "\n",
    "# Map centred on (60 degrees latitude et -2.2 degrees longitude)\n",
    "# Latitude, longitude\n",
    "map = Map(center = (60, -2.2), zoom = 2, min_zoom = 1, max_zoom = 20, basemap=basemaps.Stamen.Terrain)\n",
    "\n",
    "map"
   ]
  },
  {
   "cell_type": "code",
   "execution_count": 137,
   "id": "f7931ec0",
   "metadata": {},
   "outputs": [
    {
     "data": {
      "application/vnd.jupyter.widget-view+json": {
       "model_id": "de5fc31d5a7b4decbbe2292611515c68",
       "version_major": 2,
       "version_minor": 0
      },
      "text/plain": [
       "Map(center=[60, -2.2], controls=(ZoomControl(options=['position', 'zoom_in_text', 'zoom_in_title', 'zoom_out_t…"
      ]
     },
     "metadata": {},
     "output_type": "display_data"
    }
   ],
   "source": [
    "## HERE: plot the coordinates of the estates\n",
    "\n",
    "#Empty list to store homes data\n",
    "homes_location = []\n",
    "\n",
    "for i in range(len(south_belt)):\n",
    "\thomes_location.append([south_belt.iloc[i]['latitude'], south_belt.iloc[i]['longitude']])\n",
    "\n",
    "\n",
    "## PUT HERE YOUR CODE:\n",
    "\n",
    "for loc in homes_location:\n",
    "\tmarker = Marker(location = loc, draggable = False)\n",
    "\tmap.add_layer(marker)\n",
    "\n",
    "\n",
    "display(map)\n",
    "\n"
   ]
  },
  {
   "cell_type": "markdown",
   "id": "b22874b7",
   "metadata": {},
   "source": [
    "#### What can you say about the price per square meter between the towns of Getafe and Alcorcón?"
   ]
  },
  {
   "cell_type": "code",
   "execution_count": 138,
   "id": "e0ef506b",
   "metadata": {},
   "outputs": [
    {
     "name": "stdout",
     "output_type": "stream",
     "text": [
      "Price per square meter Getafe\n",
      "2174.593461875994\n",
      "Price per square meter Alcorcón\n",
      "2239.302480199618\n"
     ]
    }
   ],
   "source": [
    "south_belt.loc[:,\"Price_per_square\"] = (south_belt[\"price\"]/south_belt[\"surface\"])\n",
    "\n",
    "print(\"Price per square meter Getafe\")\n",
    "print(south_belt[south_belt.level5 == \"Getafe\"].Price_per_square.mean())\n",
    "\n",
    "print(\"Price per square meter Alcorcón\")\n",
    "print(south_belt[south_belt.level5 == \"Alcorcón\"].Price_per_square.mean())"
   ]
  },
  {
   "cell_type": "markdown",
   "id": "01afdbc7",
   "metadata": {},
   "source": [
    "The prices are very similar, however it is higher for Alcorcón."
   ]
  },
  {
   "cell_type": "markdown",
   "id": "a4376b3f",
   "metadata": {},
   "source": [
    "#### Reload the data, is the average of \"Valdemorillo\" and \"Galapagar\" prices the same?"
   ]
  },
  {
   "cell_type": "code",
   "execution_count": 139,
   "id": "37dbaf65",
   "metadata": {},
   "outputs": [
    {
     "name": "stdout",
     "output_type": "stream",
     "text": [
      "Average of price: \n",
      "Valdemorillo: 371583.0188679245\n",
      "Galapagar: 372108.6533333333\n"
     ]
    }
   ],
   "source": [
    "#Work with prices greater than 0\n",
    "df_filter =df[df['price']>0]\n",
    "\n",
    "print(\"Average of price: \")\n",
    "print(\"Valdemorillo: \" + str(df_filter[df_filter.level5 == \"Valdemorillo\"].price.mean()))\n",
    "print(\"Galapagar: \"+ str(df_filter[df_filter.level5 == \"Galapagar\"].price.mean()))"
   ]
  },
  {
   "cell_type": "markdown",
   "id": "96e906de",
   "metadata": {},
   "source": [
    "The average prices are very similar in both cases"
   ]
  },
  {
   "cell_type": "markdown",
   "id": "b6af45ec",
   "metadata": {},
   "source": [
    "#### What happens if we do the same analysis for price/m2 (★★☆) "
   ]
  },
  {
   "cell_type": "code",
   "execution_count": 140,
   "id": "8231d73e",
   "metadata": {},
   "outputs": [
    {
     "name": "stdout",
     "output_type": "stream",
     "text": [
      "Price per square Valdemorillo\n",
      "1317.9502109024984\n",
      "Price per square meter Galapagar\n",
      "1606.3240303094024\n"
     ]
    },
    {
     "name": "stderr",
     "output_type": "stream",
     "text": [
      "/tmp/ipykernel_1794/2066603785.py:1: SettingWithCopyWarning: \n",
      "A value is trying to be set on a copy of a slice from a DataFrame.\n",
      "Try using .loc[row_indexer,col_indexer] = value instead\n",
      "\n",
      "See the caveats in the documentation: https://pandas.pydata.org/pandas-docs/stable/user_guide/indexing.html#returning-a-view-versus-a-copy\n",
      "  df_filter[\"Price_per_square\"] = (df_filter[\"price\"]/df_filter[\"surface\"])\n"
     ]
    }
   ],
   "source": [
    "df_filter[\"Price_per_square\"] = (df_filter[\"price\"]/df_filter[\"surface\"])\n",
    "\n",
    "print(\"Price per square Valdemorillo\")\n",
    "print(df_filter[df_filter.level5 == \"Valdemorillo\"].Price_per_square.mean())\n",
    "\n",
    "print(\"Price per square meter Galapagar\")\n",
    "print(df_filter[df_filter.level5 == \"Galapagar\"].Price_per_square.mean())"
   ]
  },
  {
   "cell_type": "markdown",
   "id": "ea69101e",
   "metadata": {},
   "source": [
    "In this case the average of price/m2 is higher for Galapagar"
   ]
  },
  {
   "cell_type": "markdown",
   "id": "2d40e202",
   "metadata": {},
   "source": [
    "#### Could you say there is a relation between surface and price? (★★☆) \n",
    "Hint: make a scatter plot."
   ]
  },
  {
   "cell_type": "code",
   "execution_count": 141,
   "id": "405462e1",
   "metadata": {},
   "outputs": [
    {
     "data": {
      "text/plain": [
       "Text(0, 0.5, 'Price')"
      ]
     },
     "execution_count": 141,
     "metadata": {},
     "output_type": "execute_result"
    },
    {
     "data": {
      "image/png": "[encoded data removed]",
      "text/plain": [
       "<Figure size 720x1800 with 2 Axes>"
      ]
     },
     "metadata": {
      "needs_background": "light"
     },
     "output_type": "display_data"
    }
   ],
   "source": [
    "\n",
    "v = df_filter[df_filter.level5 == \"Valdemorillo\"]\n",
    "g = df_filter[df_filter.level5 == \"Galapagar\"]\n",
    "\n",
    "\n",
    "\n",
    "fig, ax = plt.subplots(2, figsize=(10, 25))\n",
    "\n",
    "\n",
    "ax[0].scatter(x = v[\"surface\"], y = v[\"price\"])\n",
    "ax[0].set_title('Valdemorillo')\n",
    "ax[0].set_xlabel('Surface(m2)')\n",
    "ax[0].set_ylabel('Price')\n",
    "\n",
    "\n",
    "\n",
    "ax[1].scatter(x = g[\"surface\"], y = g[\"price\"])\n",
    "ax[1].set_title('Galapagar')\n",
    "ax[1].set_xlabel('Surface(m2)')\n",
    "ax[1].set_ylabel('Price')\n",
    "\n"
   ]
  },
  {
   "cell_type": "markdown",
   "id": "3275db77",
   "metadata": {},
   "source": [
    "#### Make the same plot for 4 different populations (level5) and rearrange them on the same graph? (★★☆) \n",
    "Hint: make a scatter plot of each population using subplots."
   ]
  },
  {
   "cell_type": "code",
   "execution_count": 142,
   "id": "e08292ff",
   "metadata": {},
   "outputs": [
    {
     "data": {
      "text/plain": [
       "Text(0, 0.5, 'Price')"
      ]
     },
     "execution_count": 142,
     "metadata": {},
     "output_type": "execute_result"
    },
    {
     "data": {
      "image/png": "[encoded data removed]",
      "text/plain": [
       "<Figure size 720x1800 with 4 Axes>"
      ]
     },
     "metadata": {
      "needs_background": "light"
     },
     "output_type": "display_data"
    }
   ],
   "source": [
    "\n",
    "madrid = df_filter[df_filter.level5 == \" Madrid Capital\"]\n",
    "pinto = df_filter[df_filter.level5 == \"Pinto\"]\n",
    "las_rozas = df_filter[df_filter.level5 == \"Las Rozas de Madrid\"]\n",
    "mostoles = df_filter[df_filter.level5 == \"Móstoles\"]\n",
    "\n",
    "\n",
    "fig, ax = plt.subplots(4, figsize=(10, 25))\n",
    "\n",
    "\n",
    "ax[0].scatter(x = madrid[\"surface\"], y = madrid[\"price\"])\n",
    "ax[0].set_title('Madrid')\n",
    "ax[0].set_xlabel('Surface(m2)')\n",
    "ax[0].set_ylabel('Price')\n",
    "\n",
    "\n",
    "\n",
    "ax[1].scatter(x = pinto[\"surface\"], y = pinto[\"price\"])\n",
    "ax[1].set_title('Pinto')\n",
    "ax[1].set_xlabel('Surface(m2)')\n",
    "ax[1].set_ylabel('Price')\n",
    "\n",
    "\n",
    "ax[2].scatter(x = las_rozas[\"surface\"], y = las_rozas[\"price\"])\n",
    "ax[2].set_title('Las Rozas de Madrid')\n",
    "ax[2].set_xlabel('Surface(m2)')\n",
    "ax[2].set_ylabel('Price')\n",
    "\n",
    "ax[3].scatter(x = mostoles[\"surface\"], y = mostoles[\"price\"])\n",
    "ax[3].set_title('Móstoles')\n",
    "ax[3].set_xlabel('Surface(m2)')\n",
    "ax[3].set_ylabel('Price')\n"
   ]
  },
  {
   "cell_type": "markdown",
   "id": "0acd3fce",
   "metadata": {},
   "source": [
    "The plots suggest that there could be a correlation between price and surface."
   ]
  },
  {
   "cell_type": "markdown",
   "id": "522c6bd9",
   "metadata": {},
   "source": [
    "#### How many  real estate agencies the dataset contains? (★★☆) "
   ]
  },
  {
   "cell_type": "code",
   "execution_count": 143,
   "id": "014ec6c8",
   "metadata": {},
   "outputs": [
    {
     "name": "stdout",
     "output_type": "stream",
     "text": [
      "Number of real estate agencies: 1711\n",
      "Number of houses per real estate agency: \n",
      "engel volkers madrid             469\n",
      "infocasa consulting              300\n",
      "housell                          250\n",
      "outletdeviviendas                247\n",
      "vivienda2                        198\n",
      "                                ... \n",
      "luis garcia                        1\n",
      "gestiones inmobiliarias raisa      1\n",
      "selektia living                    1\n",
      "inmo criteria caixa sau            1\n",
      "nieves                             1\n",
      "Name: realEstate_name, Length: 1711, dtype: int64\n"
     ]
    }
   ],
   "source": [
    "print(\"Number of real estate agencies: \" + str(df['realEstate_name'].value_counts().count()))\n",
    "\n",
    "print(\"Number of houses per real estate agency: \" )\n",
    "\n",
    "print(df['realEstate_name'].value_counts())"
   ]
  },
  {
   "cell_type": "markdown",
   "id": "899a101e",
   "metadata": {},
   "source": [
    "#### What is the population (level 5) that contains the most houses? (★★☆) "
   ]
  },
  {
   "cell_type": "code",
   "execution_count": 144,
   "id": "9e8b34ba",
   "metadata": {},
   "outputs": [
    {
     "name": "stdout",
     "output_type": "stream",
     "text": [
      "The population that contains the most houses is  Madrid Capital    6237\n",
      "Name: level5, dtype: int64\n"
     ]
    }
   ],
   "source": [
    "print(\"The population that contains the most houses is \" + str(df['level5'].value_counts().head(1)))"
   ]
  }
 ],
 "metadata": {
  "kernelspec": {
   "display_name": "Python 3.8.13 64-bit ('3.8.13')",
   "language": "python",
   "name": "python3"
  },
  "language_info": {
   "codemirror_mode": {
    "name": "ipython",
    "version": 3
   },
   "file_extension": ".py",
   "mimetype": "text/x-python",
   "name": "python",
   "nbconvert_exporter": "python",
   "pygments_lexer": "ipython3",
   "version": "3.8.13"
  },
  "vscode": {
   "interpreter": {
    "hash": "110cc1dee26208153f2972f08a2ad52b6a56238dc66d48e87fb757ef2996db56"
   }
  }
 },
 "nbformat": 4,
 "nbformat_minor": 5
}
